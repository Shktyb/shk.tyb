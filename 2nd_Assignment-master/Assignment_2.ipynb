{
 "cells": [
  {
   "cell_type": "markdown",
   "metadata": {},
   "source": [
    "<h3>Q no 1:  Write a python program to find number of occurrences of given number in a list with out using built-in methods</h3>\n",
    "<h4>**1 generate a list of some random num which is repeated again and again</h4>\n",
    "<h4>**2 take user input any number</h4>\n",
    "<h4>**3 find the number of occurrences of that num in your list</h4>\n",
    "<h4>**4 print some message to user with that result</h4>"
   ]
  },
  {
   "cell_type": "code",
   "execution_count": 36,
   "metadata": {},
   "outputs": [
    {
     "name": "stdout",
     "output_type": "stream",
     "text": [
      "Plz input the number in the range of 1 - 102\n",
      "number of occurrences of given number in a list 3\n"
     ]
    }
   ],
   "source": [
    "random = [1,2,3,4,1,2,2,3,1,3,3,4,4,3,4,4,7,6,8,9,10,10,9,8,7,6,7,8,9,10]\n",
    "user_in = int(input(\"Plz input the number in the range of 1 - 10\"))\n",
    "no_occ = 0\n",
    "for a in random :\n",
    "    if a == user_in:\n",
    "        no_occ = no_occ + 1\n",
    "print (\"number of occurrences of given number in a list\" +  \" \" + str(no_occ))"
   ]
  },
  {
   "cell_type": "code",
   "execution_count": null,
   "metadata": {},
   "outputs": [],
   "source": []
  },
  {
   "cell_type": "markdown",
   "metadata": {},
   "source": [
    "<h3>Q no 2:   [\"www.zframez.com\", \"www.wikipedia.org\", \"www.asp.net\", \"www.abcd.in\"]\n",
    "<br/><br/><br/><br/><br/>\n",
    "Write a python program to print website suffixes (com , org , net ,in) from this list\n",
    "</h3>"
   ]
  },
  {
   "cell_type": "code",
   "execution_count": 37,
   "metadata": {},
   "outputs": [
    {
     "name": "stdout",
     "output_type": "stream",
     "text": [
      "www.zframez.com\n",
      "www.wikipedia.org\n",
      "www.asp.net\n",
      "www.abcd.in\n"
     ]
    }
   ],
   "source": [
    "a = [\"www.zframez\",\"www.wikipedia\",\"www.asp\",\"www.abcd\"]\n",
    "for b in a:\n",
    "    if b == \"www.zframez\":\n",
    "        print (a[0] + \".com\")\n",
    "    elif b == \"www.wikipedia\":\n",
    "        print (a[1] + \".org\")\n",
    "    elif b == \"www.asp\":\n",
    "        print (a[2] + \".net\")\n",
    "    elif b == \"www.abcd\":\n",
    "        print (a[3] + \".in\")"
   ]
  },
  {
   "cell_type": "code",
   "execution_count": null,
   "metadata": {},
   "outputs": [],
   "source": []
  },
  {
   "cell_type": "markdown",
   "metadata": {},
   "source": [
    "<h3> Q no 3 : Write a program which can compute the factorial of a given numbers.</h3>\n",
    "<br/>\n",
    "<br/>\n",
    "<h4>**1 first take user input any number</h4>\n",
    "<h4>**2 calculate factorial of that input and then print the result to user</h4>"
   ]
  },
  {
   "cell_type": "code",
   "execution_count": 1,
   "metadata": {},
   "outputs": [
    {
     "name": "stdout",
     "output_type": "stream",
     "text": [
      "Enter The Number for factorial9\n"
     ]
    }
   ],
   "source": [
    "us_in = int(input(\"Enter The Number for factorial\"))"
   ]
  },
  {
   "cell_type": "code",
   "execution_count": 2,
   "metadata": {},
   "outputs": [],
   "source": [
    "u=us_in\n",
    "n=1\n",
    "while (u!=0):\n",
    "        n = u * n\n",
    "        u = u - 1\n",
    "\n",
    "\n",
    "        "
   ]
  },
  {
   "cell_type": "code",
   "execution_count": 3,
   "metadata": {},
   "outputs": [
    {
     "name": "stdout",
     "output_type": "stream",
     "text": [
      "362880\n"
     ]
    }
   ],
   "source": [
    "print (n)"
   ]
  },
  {
   "cell_type": "code",
   "execution_count": null,
   "metadata": {},
   "outputs": [],
   "source": []
  },
  {
   "cell_type": "markdown",
   "metadata": {},
   "source": [
    "<h3>Q 4 (a) :  If you could invite anyone, living or deceased, to dinner, who\n",
    "would you invite? Make a list that includes at least three people you’d like to\n",
    "invite to dinner. Then use your list to print a message to each person, inviting\n",
    "them to dinner.</h3>"
   ]
  },
  {
   "cell_type": "code",
   "execution_count": 41,
   "metadata": {},
   "outputs": [],
   "source": [
    "invite= [\"hassan\",\"haseeb\",\"adeel\",\"muneeb\",\"bilal\",\"zohaib\"]"
   ]
  },
  {
   "cell_type": "code",
   "execution_count": 42,
   "metadata": {},
   "outputs": [
    {
     "name": "stdout",
     "output_type": "stream",
     "text": [
      "Dear hassan you are invited for weding cermony of my belove brother\n",
      "Dear haseeb you are invited for weding cermony of my belove brother\n",
      "Dear adeel you are invited for weding cermony of my belove brother\n",
      "Dear muneeb you are invited for weding cermony of my belove brother\n",
      "Dear bilal you are invited for weding cermony of my belove brother\n",
      "Dear zohaib you are invited for weding cermony of my belove brother\n"
     ]
    }
   ],
   "source": [
    "for a in invite:\n",
    "    print (\"Dear\"+\" \" + a +\" \"+ \"you are invited for weding cermony of my belove brother\")"
   ]
  },
  {
   "cell_type": "code",
   "execution_count": null,
   "metadata": {},
   "outputs": [],
   "source": []
  },
  {
   "cell_type": "markdown",
   "metadata": {},
   "source": [
    "<h3>Q 4 (b) : You just heard that one of your guests can’t make the\n",
    "dinner, so you need to send out a new set of invitations. You’ll have to think of\n",
    "someone else to invite.<br/></br><br/>\n",
    "•\t Start with your program from Q 4 (a). Add a print statement at the\n",
    "end of your program stating the name of the guest who can’t make it.<br/></br><br/>\n",
    "•\t Modify your list, replacing the name of the guest who can’t make it with\n",
    "the name of the new person you are inviting.<br/></br><br/>\n",
    "•\t Print a second set of invitation messages, one for each person who is still\n",
    "in your list.<br/></br><br/></h3>"
   ]
  },
  {
   "cell_type": "code",
   "execution_count": 43,
   "metadata": {},
   "outputs": [
    {
     "name": "stdout",
     "output_type": "stream",
     "text": [
      "hassan\n"
     ]
    }
   ],
   "source": [
    "unav=invite.pop(0)\n",
    "print (unav)\n",
    "invite.append(\"sameer\")"
   ]
  },
  {
   "cell_type": "code",
   "execution_count": 44,
   "metadata": {},
   "outputs": [
    {
     "name": "stdout",
     "output_type": "stream",
     "text": [
      "haseeb Thanks for conformation\n",
      "adeel Thanks for conformation\n",
      "muneeb Thanks for conformation\n",
      "bilal Thanks for conformation\n",
      "zohaib Thanks for conformation\n",
      "sameer Thanks for conformation\n"
     ]
    }
   ],
   "source": [
    "for i in invite:\n",
    "    print (i+\" \" + \"Thanks for conformation\")"
   ]
  },
  {
   "cell_type": "code",
   "execution_count": 45,
   "metadata": {},
   "outputs": [
    {
     "name": "stdout",
     "output_type": "stream",
     "text": [
      "unfortunatly hassan is unable to attend the event\n"
     ]
    }
   ],
   "source": [
    "print (\"unfortunatly\" + unav + \"is unable to attend the event\")"
   ]
  },
  {
   "cell_type": "markdown",
   "metadata": {},
   "source": [
    "<h3>Q 4 (c) : You just found a bigger dinner table, so now more space is\n",
    "available. Think of three more guests to invite to dinner.<br/></br><br/>\n",
    "•\t Start with your program from Q 4 (a) and (b) Add a print\n",
    "statement to the end of your program informing people that you found a\n",
    "bigger dinner table.<br/></br><br/>\n",
    "•\t Use insert() to add one new guest to the beginning of your list.<br/></br><br/>\n",
    "•\t Use insert() to add one new guest to the middle of your list.<br/></br><br/>\n",
    "•\t Use append() to add one new guest to the end of your list.<br/></br><br/>\n",
    "•\t Print a new set of invitation messages, one for each person in your list.<br/></br><br/></h3>"
   ]
  },
  {
   "cell_type": "code",
   "execution_count": 46,
   "metadata": {},
   "outputs": [],
   "source": [
    "invite.insert(0,\"ayaan\")\n",
    "invite.insert(3,\"amjad\")\n",
    "invite.append(\"haris\")"
   ]
  },
  {
   "cell_type": "code",
   "execution_count": 47,
   "metadata": {},
   "outputs": [
    {
     "name": "stdout",
     "output_type": "stream",
     "text": [
      "ayaan you are invited for the party\n",
      "haseeb you are invited for the party\n",
      "adeel you are invited for the party\n",
      "amjad you are invited for the party\n",
      "muneeb you are invited for the party\n",
      "bilal you are invited for the party\n",
      "zohaib you are invited for the party\n",
      "sameer you are invited for the party\n",
      "haris you are invited for the party\n"
     ]
    }
   ],
   "source": [
    "for a in invite:\n",
    "    print ( a + \" \" + \"you are invited for the party\")"
   ]
  },
  {
   "cell_type": "code",
   "execution_count": null,
   "metadata": {},
   "outputs": [],
   "source": []
  },
  {
   "cell_type": "markdown",
   "metadata": {},
   "source": [
    "<h5> Q 5 : Here you have some data in variable below, your task is to make a list of specific word Surah then print the list and length of list</h5>\n"
   ]
  },
  {
   "cell_type": "code",
   "execution_count": 12,
   "metadata": {},
   "outputs": [],
   "source": [
    "data = \"Sura I Who believe in the Unseen, Sura Are steadfast in prayer, And spend Sura out of what We Have provided for them;\"\n"
   ]
  },
  {
   "cell_type": "code",
   "execution_count": 18,
   "metadata": {},
   "outputs": [
    {
     "name": "stdout",
     "output_type": "stream",
     "text": [
      "['sura', 'sura', 'sura']\n"
     ]
    }
   ],
   "source": [
    "split_data = data.split()\n",
    "sp_list = []\n",
    "for a in split_data:\n",
    "    if a == \"Sura\":\n",
    "        sp_list.append(\"sura\")       \n",
    "print (sp_list)"
   ]
  },
  {
   "cell_type": "code",
   "execution_count": 23,
   "metadata": {},
   "outputs": [
    {
     "ename": "IndentationError",
     "evalue": "expected an indented block (<ipython-input-23-b973c6cd16fe>, line 2)",
     "output_type": "error",
     "traceback": [
      "\u001b[1;36m  File \u001b[1;32m\"<ipython-input-23-b973c6cd16fe>\"\u001b[1;36m, line \u001b[1;32m2\u001b[0m\n\u001b[1;33m    length = 0\u001b[0m\n\u001b[1;37m         ^\u001b[0m\n\u001b[1;31mIndentationError\u001b[0m\u001b[1;31m:\u001b[0m expected an indented block\n"
     ]
    }
   ],
   "source": [
    "for b in sp_list:\n",
    "length = 0\n",
    "    if b == \"sura\":\n",
    "        length +=1\n",
    "print (length)"
   ]
  },
  {
   "cell_type": "code",
   "execution_count": null,
   "metadata": {},
   "outputs": [],
   "source": []
  }
 ],
 "metadata": {
  "kernelspec": {
   "display_name": "Python 3",
   "language": "python",
   "name": "python3"
  },
  "language_info": {
   "codemirror_mode": {
    "name": "ipython",
    "version": 3
   },
   "file_extension": ".py",
   "mimetype": "text/x-python",
   "name": "python",
   "nbconvert_exporter": "python",
   "pygments_lexer": "ipython3",
   "version": "3.6.5"
  }
 },
 "nbformat": 4,
 "nbformat_minor": 2
}
